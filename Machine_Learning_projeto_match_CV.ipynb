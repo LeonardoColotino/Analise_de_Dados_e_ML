{
  "cells": [
    {
      "cell_type": "markdown",
      "source": [
        "# # Projeto de Match de Candidatos e Vagas\n",
        "#\n",
        "# Este notebook documenta o processo de desenvolvimento de um modelo de Machine Learning para prever o \"match\" (adequação) entre candidatos e vagas, utilizando informações textuais e numéricas. O objetivo é classificar se um candidato é \"adequado\" (classe 1) ou \"não adequado\" (classe 0) para uma vaga, considerando o desbalanceamento das classes."
      ],
      "metadata": {
        "id": "_gn_53zKU45a"
      }
    },
    {
      "cell_type": "markdown",
      "source": [
        "1. Carregamento e Preparação dos Dados\n",
        "Nesta primeira etapa, carregamos os conjuntos de dados brutos (vagas, candidatos e prospects) a partir de arquivos JSON e os estruturamos em DataFrames do pandas para facilitar as próximas etapas de análise e pré-processamento."
      ],
      "metadata": {
        "id": "_WEDcZJdWQ0D"
      }
    },
    {
      "cell_type": "code",
      "execution_count": null,
      "metadata": {
        "id": "X9PlQoKzL1ig"
      },
      "outputs": [],
      "source": [
        "import json\n",
        "import pandas as pd\n",
        "\n",
        "def load_json(path):\n",
        "    with open(path, encoding='utf-8') as f:\n",
        "        return json.load(f)\n",
        "\n",
        "JOBS_PATH = r'C:\\Users\\Leonardo\\Desktop\\Codigos\\vagas.json'\n",
        "jobs_data = load_json(JOBS_PATH)\n",
        "\n",
        "job_rows = []\n",
        "for vaga_id, dados in jobs_data.items():\n",
        "    info = dados.get(\"informacoes_basicas\", {})\n",
        "    perfil = dados.get(\"perfil_vaga\", {})\n",
        "\n",
        "    job_rows.append({\n",
        "        'vaga_id': vaga_id,\n",
        "        'titulo_vaga': info.get('titulo_vaga', ''),\n",
        "        'prioridade_vaga': info.get('prioridade_vaga', ''),\n",
        "        'tipo_contratacao_vaga': info.get('tipo_contratacao', ''),\n",
        "        'vaga_sap': info.get('vaga_sap', ''),\n",
        "        'nivel_profissional_vaga': perfil.get('nivel profissional', ''),\n",
        "        'nivel_ingles_vaga': perfil.get('nivel_ingles', ''),\n",
        "        'nivel_espanhol_vaga': perfil.get('nivel_espanhol', ''),\n",
        "        'area_atuacao_vaga': perfil.get('areas_atuacao', ''),\n",
        "        'local_vaga': perfil.get('cidade', ''),\n",
        "        'principais_atividades_vaga': perfil.get('principais_atividades', ''),\n",
        "        'competencias_tecnicas_vaga': perfil.get('competencia_tecnicas_e_comportamentais', '')\n",
        "    })\n",
        "\n",
        "df_jobs = pd.DataFrame(job_rows)\n"
      ]
    },
    {
      "cell_type": "code",
      "execution_count": null,
      "metadata": {
        "id": "-v7zXoGRMMud"
      },
      "outputs": [],
      "source": [
        "APPLICANTS_PATH = r'C:\\Users\\Leonardo\\Desktop\\Codigos\\applicants.json'\n",
        "applicants_data = load_json(APPLICANTS_PATH)\n",
        "\n",
        "applicant_rows = []\n",
        "for candidato_id, dados in applicants_data.items():\n",
        "    info = dados.get('infos_basicas', {})\n",
        "    formacao = dados.get('formacao_e_idiomas', {})\n",
        "    prof = dados.get('informacoes_profissionais', {})\n",
        "\n",
        "    applicant_rows.append({\n",
        "        'candidato_id': candidato_id,\n",
        "        'nome': info.get('nome'),\n",
        "        'email': info.get('email'),\n",
        "        'local_candidato': info.get('local'),\n",
        "        'nivel_ingles_candidato': formacao.get('nivel_ingles'),\n",
        "        'nivel_espanhol_candidato': formacao.get('nivel_espanhol'),\n",
        "        'nivel_academico_candidato': formacao.get('nivel_academico'),\n",
        "        'area_atuacao_candidato': prof.get('area_atuacao'),\n",
        "        'nivel_profissional_candidato': prof.get('nivel_profissional'),\n",
        "        'conhecimentos_tecnicos_candidato': prof.get('conhecimentos_tecnicos'),\n",
        "        'titulo_candidato': prof.get('titulo_profissional'),\n",
        "        'objetivo_candidato': info.get('objetivo_profissional'),\n",
        "        'cv': dados.get('cv_pt')\n",
        "    })\n",
        "\n",
        "df_applicants = pd.DataFrame(applicant_rows)\n"
      ]
    },
    {
      "cell_type": "code",
      "execution_count": null,
      "metadata": {
        "id": "7POatNKjMMlb"
      },
      "outputs": [],
      "source": [
        "from datetime import datetime\n",
        "\n",
        "\n",
        "PROSPECTS_PATH = r'C:\\Users\\Leonardo\\Desktop\\Codigos\\prospects.json'\n",
        "prospects_data = load_json(PROSPECTS_PATH)\n",
        "\n",
        "prospect_rows = []\n",
        "for vaga_id, vaga_info in prospects_data.items():\n",
        "    titulo_vaga = vaga_info.get('titulo', '')\n",
        "    lista_prospects = vaga_info.get('prospects', [])\n",
        "\n",
        "    for prospect in lista_prospects:\n",
        "        candidato_id = prospect.get('codigo')\n",
        "        situacao = prospect.get('situacao_candidado')\n",
        "        data_candidatura = prospect.get('data_candidatura')\n",
        "        ultima_atualizacao = prospect.get('ultima_atualizacao')\n",
        "\n",
        "        # Cálculo da diferença de dias\n",
        "        try:\n",
        "            dt1 = datetime.strptime(data_candidatura, \"%d-%m-%Y\")\n",
        "            dt2 = datetime.strptime(ultima_atualizacao, \"%d-%m-%Y\")\n",
        "            dias_entre = (dt2 - dt1).days\n",
        "        except:\n",
        "            dias_entre = None\n",
        "\n",
        "        prospect_rows.append({\n",
        "            'vaga_id': vaga_id,\n",
        "            'candidato_id': candidato_id,\n",
        "            'situacao': situacao,\n",
        "            'data_candidatura': data_candidatura,\n",
        "            'ultima_atualizacao': ultima_atualizacao,\n",
        "            'comentario': prospect.get('comentario'),\n",
        "            'recrutador': prospect.get('recrutador'),\n",
        "            'dias_entre_candidatura_e_ultima_atualizacao': dias_entre\n",
        "        })\n",
        "\n",
        "df_prospects = pd.DataFrame(prospect_rows)\n"
      ]
    },
    {
      "cell_type": "code",
      "execution_count": null,
      "metadata": {
        "id": "n0oL8Ht7MrCB"
      },
      "outputs": [],
      "source": [
        "\n",
        "df_merged = df_prospects.merge(df_jobs, on='vaga_id', how='left')\n",
        "df_merged = df_merged.merge(df_applicants, on='candidato_id', how='left')\n",
        "\n",
        "\n"
      ]
    },
    {
      "cell_type": "markdown",
      "source": [
        "### Preparação da Coluna TARGET\n",
        "\n",
        "Nesta etapa, preparamos a variável alvo (`alvo`) para o modelo. Consideramos apenas os registros com status que indicam a conclusão do processo de seleção.\n",
        "\n",
        "Registros com status inconclusivos (como 'prospect', 'encaminhado ao requisitante', 'sem interesse nesta vaga', etc.) foram excluídos, pois não fornecem um resultado claro de \"match\" ou \"não match\" para o treinamento do modelo.\n",
        "\n",
        "A coluna `alvo` foi criada da seguinte forma:\n",
        "- **`alvo = 1` (Match):** Para status considerados positivos (por exemplo, 'contratado', 'aprovado', 'proposta aceita').\n",
        "- **`alvo = 0` (Não Match):** Para status considerados negativos (por exemplo, 'não aprovado', 'desistiu', 'recusado')."
      ],
      "metadata": {
        "id": "RiiAyAb7WgmJ"
      }
    },
    {
      "cell_type": "code",
      "execution_count": null,
      "metadata": {
        "id": "zOOICBpBUpQD"
      },
      "outputs": [],
      "source": [
        "STATUS_POSITIVOS = {'contratado pela decision', 'contratado como hunting', 'aprovado', 'proposta aceita'}\n",
        "STATUS_NEGATIVOS = {'não aprovado pelo cliente', 'não aprovado pelo rh', 'desistiu', 'recusado', 'reprovado', 'não aprovado pelo requisitante'}\n",
        "\n",
        "\n",
        "status_a_manter = STATUS_POSITIVOS.union(STATUS_NEGATIVOS)\n",
        "status_a_manter_lower = {s.lower() for s in status_a_manter}\n",
        "\n",
        "\n",
        "df_merged['situacao_lower'] = df_merged['situacao'].str.lower()\n",
        "\n",
        "\n",
        "df_merged = df_merged[df_merged['situacao_lower'].isin(status_a_manter_lower)].copy()\n",
        "\n",
        "df_merged = df_merged.drop(columns=['situacao_lower'])\n",
        "\n",
        "\n",
        "df_merged = df_merged.reset_index(drop=True)\n",
        "\n",
        "\n",
        "df_merged['alvo'] = 0\n",
        "\n",
        "\n",
        "df_merged.loc[df_merged['situacao'].str.lower().isin(STATUS_POSITIVOS), 'alvo'] = 1\n",
        "\n",
        "\n",
        "df_merged.loc[df_merged['situacao'].str.lower().isin(STATUS_NEGATIVOS), 'alvo'] = 0"
      ]
    },
    {
      "cell_type": "markdown",
      "source": [
        "### Engenharia de Features: Níveis de Idioma\n",
        "\n",
        "Nesta etapa, criamos features numéricas a partir dos níveis de idioma (inglês e espanhol) para que o modelo possa utilizá-los. Os níveis textuais são mapeados para valores numéricos, e criamos features binárias que indicam se o nível de idioma do candidato atende ou excede o requisito da vaga."
      ],
      "metadata": {
        "id": "plVwDc5aX1-g"
      }
    },
    {
      "cell_type": "code",
      "execution_count": null,
      "metadata": {
        "id": "apaGuwCTMuFh"
      },
      "outputs": [],
      "source": [
        "\n",
        "\n",
        "for col in ['nivel_ingles_vaga', 'nivel_espanhol_vaga', 'nivel_ingles_candidato', 'nivel_espanhol_candidato']:\n",
        "    df_merged[col] = df_merged[col].replace('', 'Nenhum').fillna('Nenhum')\n"
      ]
    },
    {
      "cell_type": "code",
      "execution_count": null,
      "metadata": {
        "id": "RGWOsmbBMxzD"
      },
      "outputs": [],
      "source": [
        "df_merged[col] = df_merged[col].str.strip().str.title()\n"
      ]
    },
    {
      "cell_type": "code",
      "execution_count": null,
      "metadata": {
        "id": "k0UKs0pTiBwN"
      },
      "outputs": [],
      "source": [
        "mapa_idiomas = {\n",
        "    'Nenhum': 0,\n",
        "    'Básico': 1,\n",
        "    'Técnico': 2,\n",
        "    'Intermediário': 3,\n",
        "    'Avançado': 4,\n",
        "    'Fluente': 5\n",
        "}\n"
      ]
    },
    {
      "cell_type": "code",
      "execution_count": null,
      "metadata": {
        "id": "zdW5CT57iD5R"
      },
      "outputs": [],
      "source": [
        "for col in ['nivel_ingles_vaga', 'nivel_espanhol_vaga', 'nivel_ingles_candidato', 'nivel_espanhol_candidato']:\n",
        "    df_merged[col + '_num'] = df_merged[col].map(mapa_idiomas)\n"
      ]
    },
    {
      "cell_type": "code",
      "execution_count": null,
      "metadata": {
        "id": "KFgH9szDiE6p"
      },
      "outputs": [],
      "source": [
        "df_merged['match_nivel_ingles'] = (\n",
        "    df_merged['nivel_ingles_candidato_num'] >= df_merged['nivel_ingles_vaga_num']\n",
        ").astype(int)\n",
        "\n",
        "df_merged['match_nivel_espanhol'] = (\n",
        "    df_merged['nivel_espanhol_candidato_num'] >= df_merged['nivel_espanhol_vaga_num']\n",
        ").astype(int)\n"
      ]
    },
    {
      "cell_type": "markdown",
      "source": [
        "### Preparação de Texto Combinado para Análise\n",
        "\n",
        "Nesta etapa, concatenamos diversas informações textuais relevantes do candidato (como CV, conhecimentos técnicos, objetivo profissional) e da vaga (título, área de atuação, atividades, competências). O objetivo é criar campos de texto únicos e ricos em conteúdo para cada candidato e vaga, facilitando a análise textual e a extração de features para o modelo de match."
      ],
      "metadata": {
        "id": "uXNQlgI1YCrz"
      }
    },
    {
      "cell_type": "code",
      "execution_count": null,
      "metadata": {
        "id": "lRA0K2RJM3df"
      },
      "outputs": [],
      "source": [
        "df_merged['texto_candidato'] = (\n",
        "    df_merged['cv'].fillna('') + ' ' +\n",
        "    df_merged['conhecimentos_tecnicos_candidato'].fillna('') + ' ' +\n",
        "    df_merged['nivel_profissional_candidato'].fillna('') + ' ' +\n",
        "    df_merged['titulo_candidato'].fillna('') + ' ' +\n",
        "    df_merged['objetivo_candidato'].fillna('')\n",
        ")\n",
        "\n"
      ]
    },
    {
      "cell_type": "code",
      "execution_count": null,
      "metadata": {
        "id": "uUQISnyTM4wO"
      },
      "outputs": [],
      "source": [
        "df_merged['texto_vaga'] = (\n",
        "    df_merged['titulo_vaga'].fillna('') + ' ' +\n",
        "    df_merged['area_atuacao_vaga'].fillna('') + ' ' +\n",
        "    df_merged['principais_atividades_vaga'].fillna('') + ' ' +\n",
        "    df_merged['competencias_tecnicas_vaga'].fillna('')\n",
        ")\n"
      ]
    },
    {
      "cell_type": "code",
      "execution_count": null,
      "metadata": {
        "colab": {
          "base_uri": "https://localhost:8080/"
        },
        "id": "cxsBsPylM53u",
        "outputId": "dd4176f5-1994-44cd-9155-f0b8b1cdb1e7"
      },
      "outputs": [
        {
          "data": {
            "text/plain": [
              "np.int64(1714)"
            ]
          },
          "execution_count": 13,
          "metadata": {},
          "output_type": "execute_result"
        }
      ],
      "source": [
        "\n",
        "(df_merged['texto_candidato'].str.strip() == '').sum()"
      ]
    },
    {
      "cell_type": "markdown",
      "source": [
        "### Tratamento de Textos Vazios/Nulos\n",
        "\n",
        "Após a criação das colunas de texto combinado (`texto_candidato` e `texto_vaga`), removemos as linhas que continham apenas valores em branco ou nulos nessas colunas para garantir a qualidade dos dados para a análise textual subsequente."
      ],
      "metadata": {
        "id": "2s-Z6jAyZTjK"
      }
    },
    {
      "cell_type": "code",
      "execution_count": null,
      "metadata": {
        "id": "jqwZicjXNEAT"
      },
      "outputs": [],
      "source": [
        "df_merged = df_merged[df_merged['texto_candidato'].str.strip() != '']\n",
        "df_merged = df_merged.dropna(subset=['texto_candidato'])"
      ]
    },
    {
      "cell_type": "code",
      "execution_count": null,
      "metadata": {
        "id": "CarN_pEeTBsG"
      },
      "outputs": [],
      "source": [
        "df_merged = df_merged[df_merged['texto_vaga'].str.strip() != '']\n",
        "df_merged = df_merged.dropna(subset=['texto_vaga'])\n"
      ]
    },
    {
      "cell_type": "code",
      "execution_count": null,
      "metadata": {
        "colab": {
          "base_uri": "https://localhost:8080/",
          "height": 241
        },
        "id": "J6KFOqM-LvcK",
        "outputId": "c0385d8a-3da2-43ba-8a6e-e34d9683cdc4"
      },
      "outputs": [
        {
          "data": {
            "text/plain": [
              "prioridade_vaga\n",
              "Alta: Alta complexidade 3 a 5 dias        5137\n",
              "                                          3603\n",
              "Média: Média complexidade 6 a 10 dias      882\n",
              "Baixa: Baixa complexidade 11 a 30 dias     227\n",
              "Name: count, dtype: int64"
            ]
          },
          "execution_count": 16,
          "metadata": {},
          "output_type": "execute_result"
        }
      ],
      "source": [
        "df_merged['prioridade_vaga'].value_counts()"
      ]
    },
    {
      "cell_type": "code",
      "execution_count": null,
      "metadata": {
        "id": "q26UGOqw74DW"
      },
      "outputs": [],
      "source": [
        "df_merged.loc[:, 'prioridade_vaga'] = df_merged['prioridade_vaga'].replace('', pd.NA).fillna('nenhum')\n",
        "\n",
        "prioridade_map = {\n",
        "    'Alta: Alta complexidade 3 a 5 dias': 'alta',\n",
        "    'Média: Média complexidade 6 a 10 dias': 'media',\n",
        "    'Baixa: Baixa complexidade 11 a 30 dias': 'baixa',\n",
        "}\n",
        "df_merged['prioridade_vaga'] = df_merged['prioridade_vaga'].replace(prioridade_map)"
      ]
    },
    {
      "cell_type": "markdown",
      "source": [
        "### Engenharia de Features: Localização\n",
        "\n",
        "Nesta etapa, criamos features relacionadas à localização do candidato e da vaga. O objetivo é identificar possíveis *matches* geográficos, como candidatos que residem na mesma cidade da vaga, gerando uma feature binária que indica essa correspondência para ser utilizada no modelo."
      ],
      "metadata": {
        "id": "rZH6QwSzZhTq"
      }
    },
    {
      "cell_type": "code",
      "execution_count": null,
      "metadata": {
        "id": "d09lEhip95fI"
      },
      "outputs": [],
      "source": [
        "from unidecode import unidecode\n",
        "import re\n",
        "import numpy as np\n",
        "def standardize_location_text(text):\n",
        "    if pd.isna(text) or text == '':\n",
        "        return np.nan\n",
        "    text = str(text).lower()\n",
        "    text = unidecode(text)\n",
        "    text = re.sub(r'\\s+', ' ', text).strip()\n",
        "    return text\n",
        "\n",
        "df_merged['local_vaga_tratado'] = df_merged['local_vaga'].apply(standardize_location_text)\n",
        "df_merged['local_candidato_tratado'] = df_merged['local_candidato'].apply(standardize_location_text)"
      ]
    },
    {
      "cell_type": "code",
      "execution_count": null,
      "metadata": {
        "id": "z8tBHzTfUpQF",
        "outputId": "6c7e3d21-9303-46e0-d82b-027e1ec8e954"
      },
      "outputs": [
        {
          "data": {
            "text/plain": [
              "local_candidato_tratado\n",
              "sao paulo, sao paulo                   1510\n",
              "rio de janeiro, rio de janeiro          203\n",
              "belo horizonte, minas gerais            123\n",
              "fortaleza, ceara                        120\n",
              "sao paulo                               118\n",
              "osasco, sao paulo                        96\n",
              "sao bernardo do campo, sao paulo         90\n",
              "campinas, sao paulo                      87\n",
              "hortolandia, sao paulo                   85\n",
              "curitiba, parana                         71\n",
              "santo andre, sao paulo                   63\n",
              "brasilia, distrito federal               52\n",
              "guarulhos, sao paulo                     49\n",
              "recife, pernambuco                       44\n",
              "barueri, sao paulo                       41\n",
              "porto alegre, rio grande do sul          29\n",
              "salvador, bahia                          28\n",
              "sorocaba, sao paulo                      25\n",
              "santos, sao paulo                        25\n",
              "sao caetano do sul, sao paulo            25\n",
              "niteroi, rio de janeiro                  24\n",
              "carapicuiba, sao paulo                   21\n",
              "cotia, sao paulo                         20\n",
              "diadema, sao paulo                       18\n",
              "mogi das cruzes, sao paulo               18\n",
              "contagem, minas gerais                   18\n",
              "jundiai, sao paulo                       17\n",
              "nova lima, minas gerais                  16\n",
              "sao jose dos campos, sao paulo           15\n",
              "taboao da serra, sao paulo               14\n",
              "sao luis, maranhao                       13\n",
              "jaboatao dos guararapes, pernambuco      13\n",
              "maua, sao paulo                          13\n",
              "goiania, goias                           12\n",
              "camacari, bahia                          12\n",
              "santana de parnaiba, sao paulo           12\n",
              "blumenau, santa catarina                 12\n",
              "joinville, santa catarina                12\n",
              "florianopolis, santa catarina            10\n",
              "rio de janeiro                           10\n",
              "manaus, amazonas                         10\n",
              "ibiuna, sao paulo                         9\n",
              "parana                                    9\n",
              "minas gerais                              9\n",
              "duque de caxias, rio de janeiro           9\n",
              "vila velha, espirito santo                9\n",
              "itapevi, sao paulo                        9\n",
              "sumare, sao paulo                         9\n",
              "itu, sao paulo                            9\n",
              "sao vicente, sao paulo                    8\n",
              "Name: count, dtype: int64"
            ]
          },
          "execution_count": 19,
          "metadata": {},
          "output_type": "execute_result"
        }
      ],
      "source": [
        "df_merged['local_candidato_tratado'].value_counts().head(50)\n"
      ]
    },
    {
      "cell_type": "code",
      "execution_count": null,
      "metadata": {
        "id": "_OPN43nIUpQF",
        "outputId": "c3a1d45e-1623-4c4d-a9be-bceb35fc9d02"
      },
      "outputs": [
        {
          "data": {
            "text/plain": [
              "local_vaga_tratado\n",
              "sao paulo                6624\n",
              "hortolandia               461\n",
              "rio de janeiro            279\n",
              "barueri                   266\n",
              "sao bernardo do campo     256\n",
              "fortaleza                 251\n",
              "nova lima                 194\n",
              "recife                    169\n",
              "curitiba                  141\n",
              "santana de parnaiba       132\n",
              "belo horizonte            118\n",
              "campinas                  102\n",
              "sao leopoldo               78\n",
              "ribeirao preto             53\n",
              "santo andre                43\n",
              "sao jose dos campos        42\n",
              "uberlandia                 39\n",
              "bebedouro                  38\n",
              "porto alegre               36\n",
              "brasilia                   28\n",
              "sao carlos                 27\n",
              "volta redonda              25\n",
              "indaiatuba                 24\n",
              "santos                     18\n",
              "londrina                   17\n",
              "blumenau                   17\n",
              "guarulhos                  17\n",
              "cruzeiro                   16\n",
              "osasco                     15\n",
              "sao luis                   13\n",
              "manaus                     13\n",
              "jundiai                    11\n",
              "varginha                   11\n",
              "florianopolis              10\n",
              "niteroi                     9\n",
              "jaguariuna                  9\n",
              "campina grande              9\n",
              "limeira                     8\n",
              "salvador                    8\n",
              "sao joao da boa vista       8\n",
              "machado                     8\n",
              "aracariguama                8\n",
              "goiania                     7\n",
              "sao caetano do sul          7\n",
              "cuiaba                      6\n",
              "teresina                    6\n",
              "porto velho                 6\n",
              "maringa                     6\n",
              "campo grande                6\n",
              "bauru                       5\n",
              "Name: count, dtype: int64"
            ]
          },
          "execution_count": 20,
          "metadata": {},
          "output_type": "execute_result"
        }
      ],
      "source": [
        "df_merged['local_vaga_tratado'].value_counts().head(50)\n"
      ]
    },
    {
      "cell_type": "code",
      "execution_count": null,
      "metadata": {
        "id": "_Jv9fqqGUpQF",
        "outputId": "2aad0146-552c-49b1-b741-16c8cf01dbed"
      },
      "outputs": [
        {
          "name": "stdout",
          "output_type": "stream",
          "text": [
            "local_candidato_tratado ANTES da remoção do estado:\n",
            "local_candidato_tratado\n",
            "NaN                                 6061\n",
            "sao paulo, sao paulo                1510\n",
            "rio de janeiro, rio de janeiro       203\n",
            "belo horizonte, minas gerais         123\n",
            "fortaleza, ceara                     120\n",
            "sao paulo                            118\n",
            "osasco, sao paulo                     96\n",
            "sao bernardo do campo, sao paulo      90\n",
            "campinas, sao paulo                   87\n",
            "hortolandia, sao paulo                85\n",
            "Name: count, dtype: int64\n",
            "\n",
            "local_candidato_tratado DEPOIS da remoção do estado:\n",
            "local_candidato_tratado\n",
            "NaN                      6061\n",
            "sao paulo                1628\n",
            "rio de janeiro            213\n",
            "belo horizonte            123\n",
            "fortaleza                 120\n",
            "osasco                     96\n",
            "sao bernardo do campo      90\n",
            "campinas                   87\n",
            "hortolandia                85\n",
            "curitiba                   71\n",
            "Name: count, dtype: int64\n",
            "\n",
            "Value counts para a nova feature 'match_local_cidade_bin':\n",
            "match_local_cidade_bin\n",
            "0    8158\n",
            "1    1691\n",
            "Name: count, dtype: int64\n"
          ]
        }
      ],
      "source": [
        "import pandas as pd\n",
        "from unidecode import unidecode\n",
        "import re\n",
        "import numpy as np\n",
        "\n",
        "\n",
        "def standardize_location_text(text):\n",
        "    if pd.isna(text) or text == '':\n",
        "        return np.nan\n",
        "    text = str(text).lower()\n",
        "    text = unidecode(text)\n",
        "    text = re.sub(r'\\s+', ' ', text).strip()\n",
        "    return text\n",
        "\n",
        "\n",
        "df_merged['local_vaga_tratado'] = df_merged['local_vaga'].apply(standardize_location_text)\n",
        "df_merged['local_candidato_tratado'] = df_merged['local_candidato'].apply(standardize_location_text)\n",
        "\n",
        "print(\"local_candidato_tratado ANTES da remoção do estado:\")\n",
        "print(df_merged['local_candidato_tratado'].value_counts(dropna=False).head(10))\n",
        "\n",
        "\n",
        "def remove_state_suffix(location_string):\n",
        "    if pd.isna(location_string) or location_string.strip() == '':\n",
        "        return np.nan\n",
        "\n",
        "    return location_string.split(',')[0].strip()\n",
        "\n",
        "\n",
        "df_merged['local_candidato_tratado'] = df_merged['local_candidato_tratado'].apply(remove_state_suffix)\n",
        "\n",
        "print(\"\\nlocal_candidato_tratado DEPOIS da remoção do estado:\")\n",
        "print(df_merged['local_candidato_tratado'].value_counts(dropna=False).head(10))\n",
        "\n",
        "def create_simple_city_match_feature(row):\n",
        "    loc_cand_city = row['local_candidato_tratado']\n",
        "    loc_vaga_city = row['local_vaga_tratado']\n",
        "\n",
        "\n",
        "    if pd.isna(loc_cand_city) or pd.isna(loc_vaga_city):\n",
        "        return 0\n",
        "\n",
        "    if loc_cand_city == loc_vaga_city:\n",
        "        return 1\n",
        "\n",
        "    return 0\n",
        "\n",
        "\n",
        "df_merged['match_local_cidade_bin'] = df_merged.apply(create_simple_city_match_feature, axis=1)\n",
        "\n",
        "print(\"\\nValue counts para a nova feature 'match_local_cidade_bin':\")\n",
        "print(df_merged['match_local_cidade_bin'].value_counts(dropna=False))\n",
        "\n"
      ]
    },
    {
      "cell_type": "markdown",
      "source": [
        "### Tratamento de Texto Detalhado\n",
        "\n",
        "Aplicamos um tratamento mais detalhado aos textos combinados do candidato e da vaga. Esta etapa incluiu a remoção de acentuações, caracteres especiais, números e stopwords (palavras comuns sem grande significado para a análise, como \"de\", \"a\", \"o\", etc.) para preparar os textos para a análise e extração de features."
      ],
      "metadata": {
        "id": "QEvpI_UWZua8"
      }
    },
    {
      "cell_type": "code",
      "execution_count": null,
      "metadata": {
        "colab": {
          "base_uri": "https://localhost:8080/"
        },
        "id": "ow-Cua09RD6I",
        "outputId": "1e046aef-f0fd-4eaf-a31b-801c773a5c3f"
      },
      "outputs": [
        {
          "name": "stderr",
          "output_type": "stream",
          "text": [
            "[nltk_data] Downloading package stopwords to\n",
            "[nltk_data]     C:\\Users\\Leonardo\\AppData\\Roaming\\nltk_data...\n",
            "[nltk_data]   Package stopwords is already up-to-date!\n"
          ]
        }
      ],
      "source": [
        "import nltk\n",
        "from nltk.corpus import stopwords\n",
        "import re\n",
        "import unicodedata\n",
        "\n",
        "\n",
        "nltk.download('stopwords')\n",
        "stop_words = set(stopwords.words('portuguese'))\n",
        "\n",
        "def preprocess_text(text):\n",
        "    text = str(text).lower()\n",
        "    text = unicodedata.normalize('NFKD', text).encode('ASCII', 'ignore').decode('utf-8')\n",
        "\n",
        "    text = text.replace('-', ' ')\n",
        "    text = text.replace(',', '')\n",
        "    text = text.replace('(', '')\n",
        "    text = text.replace(')', '')\n",
        "\n",
        "    text = re.sub(r'[^\\w\\s]', '', text)\n",
        "    text = re.sub(r'\\d+', '', text)\n",
        "\n",
        "    tokens = text.split()\n",
        "    tokens = [t for t in tokens if t not in stop_words]\n",
        "    return ' '.join(tokens)\n",
        "\n",
        "\n",
        "df_merged['texto_completo_tratado'] = df_merged['texto_candidato'].apply(preprocess_text)\n",
        "df_merged['texto_vaga_tratado'] = df_merged['texto_vaga'].apply(preprocess_text)"
      ]
    },
    {
      "cell_type": "markdown",
      "metadata": {
        "id": "xBxXYzwHTMhn"
      },
      "source": [
        "### Engenharia de Features: Nível Profissional/Senioridade\n",
        "\n",
        "Nesta etapa, criamos features relacionadas ao nível profissional ou senioridade do candidato e da vaga. Identificamos palavras-chave de nível de cargo nos textos, mapeamos esses níveis para uma hierarquia numérica e criamos features que comparam o nível do candidato com o nível da vaga, indicando se há um match, se o candidato está acima ou abaixo do nível requerido."
      ]
    },
    {
      "cell_type": "code",
      "execution_count": null,
      "metadata": {
        "id": "tL_At1FHHsxK"
      },
      "outputs": [],
      "source": [
        "from unidecode import unidecode\n",
        "import pandas as pd\n",
        "\n",
        "palavras_chave = [\n",
        "    'senior', 'analista', 'pleno', 'junior', 'especialista', 'assistente',\n",
        "    'gerente', 'lider', 'coordenador', 'supervisor', 'auxiliar', 'trainee', 'aprendiz'\n",
        "]\n",
        "\n",
        "def identificar_palavras(texto):\n",
        "    encontradas = [p for p in palavras_chave if p in texto]\n",
        "    return '/'.join(encontradas) if encontradas else None\n",
        "\n",
        "df_merged['palavras_nivel_cargo'] = df_merged['texto_completo_tratado'].apply(identificar_palavras)\n",
        "\n",
        "df_merged[['texto_completo_tratado', 'palavras_nivel_cargo']].head()\n",
        "\n",
        "\n",
        "df_merged['nivel_profissional_vaga'] = df_merged['nivel_profissional_vaga'].apply(\n",
        "    lambda x: unidecode(str(x)).lower().strip() if pd.notna(x) else None\n",
        ")\n",
        "\n",
        "hierarquia = {\n",
        "    'aprendiz': 1,\n",
        "    'trainee': 2,\n",
        "    'auxiliar': 3,\n",
        "    'assistente': 4,\n",
        "    'analista': 5,\n",
        "    'junior': 6,\n",
        "    'pleno': 7,\n",
        "    'senior': 8,\n",
        "    'especialista': 9,\n",
        "    'supervisor': 10,\n",
        "    'lider': 11,\n",
        "    'coordenador': 12,\n",
        "    'gerente': 13,\n",
        "}\n",
        "\n",
        "def obter_maior_nivel(palavras):\n",
        "    if pd.isna(palavras):\n",
        "        return None\n",
        "    niveis = palavras.split('/')\n",
        "    niveis_validos = [nivel for nivel in niveis if nivel in hierarquia]\n",
        "    if not niveis_validos:\n",
        "        return None\n",
        "    return max(niveis_validos, key=lambda x: hierarquia[x])\n",
        "df_merged['maior_nivel_detectado'] = df_merged['palavras_nivel_cargo'].apply(obter_maior_nivel)\n",
        "\n",
        "def comparar_niveis(detectado, real):\n",
        "    if pd.isna(detectado) or pd.isna(real):\n",
        "        return 'sem_info'\n",
        "    nivel_detectado = hierarquia.get(detectado, 0)\n",
        "    nivel_real = hierarquia.get(real, 0)\n",
        "\n",
        "    if nivel_detectado == nivel_real:\n",
        "        return 'exato'\n",
        "    elif nivel_detectado > nivel_real:\n",
        "        return 'acima'\n",
        "    else:\n",
        "        return 'abaixo'\n",
        "\n",
        "df_merged['comparacao_nivel'] = df_merged.apply(\n",
        "    lambda row: comparar_niveis(row['maior_nivel_detectado'], row['nivel_profissional_vaga']), axis=1\n",
        ")\n"
      ]
    },
    {
      "cell_type": "code",
      "execution_count": null,
      "metadata": {
        "id": "Y-Lg5r568GD3"
      },
      "outputs": [],
      "source": [
        "df_merged['match_nivel_bin'] = df_merged['comparacao_nivel'].map({\n",
        "    'exato': 1,\n",
        "    'acima': 1,\n",
        "    'abaixo': 0,\n",
        "    'sem_info': 0\n",
        "})\n"
      ]
    },
    {
      "cell_type": "markdown",
      "source": [
        "### Tratamento de Candidatos com Informação Insuficiente\n",
        "\n",
        "Esta foi uma etapa importante do pré-processamento. Identificamos candidatos que não possuíam informações textuais suficientes para uma análise adequada, mesmo após a concatenação de dados como currículo, nível profissional e conhecimentos técnicos.\n",
        "\n",
        "Situações com pouca informação, como apenas \"DEV JAVA\", poderiam gerar um falso match se a vaga solicitasse várias habilidades e \"DEV JAVA\" fosse uma delas. Para evitar falsos positivos e garantir a qualidade dos dados para o modelo, optamos pela exclusão das linhas que não apresentavam um volume mínimo de texto."
      ],
      "metadata": {
        "id": "UCoBb9gcaEV9"
      }
    },
    {
      "cell_type": "code",
      "execution_count": null,
      "metadata": {
        "id": "ReKu7-tqwjv_"
      },
      "outputs": [],
      "source": [
        "\n",
        "df_merged['texto_sem_espaco'] = df_merged['texto_completo_tratado'].str.replace(' ', '', regex=False)\n",
        "\n",
        "df_merged['num_caracteres'] = df_merged['texto_sem_espaco'].str.len()\n",
        "\n",
        "df_merged = df_merged[df_merged['num_caracteres'] >= 100].reset_index(drop=True)\n"
      ]
    },
    {
      "cell_type": "code",
      "execution_count": null,
      "metadata": {
        "id": "JuBliCh6w9Ok"
      },
      "outputs": [],
      "source": [
        "teste = df_merged['texto_completo_tratado'].head(50)"
      ]
    },
    {
      "cell_type": "code",
      "execution_count": null,
      "metadata": {
        "id": "auM1FyOdzzno"
      },
      "outputs": [],
      "source": [
        "df_merged = df_merged.drop(columns=['texto_sem_espaco', 'num_caracteres']).reset_index(drop=True)"
      ]
    },
    {
      "cell_type": "markdown",
      "source": [
        "### Engenharia de Features: Variação de Nível Profissional\n",
        "\n",
        "Criamos uma feature para capturar a variação do nível profissional entre o candidato e a vaga. A ideia é que uma grande diferença, seja o candidato muito abaixo ou muito acima do nível requerido na vaga, pode indicar uma incompatibilidade. Esta feature representa a diferença numérica entre o nível de senioridade detectado no perfil do candidato e o nível profissional especificado para a vaga."
      ],
      "metadata": {
        "id": "GQx1fogUbR27"
      }
    },
    {
      "cell_type": "code",
      "execution_count": null,
      "metadata": {
        "id": "yJPAhWQIjzDM"
      },
      "outputs": [],
      "source": [
        "def calcular_diferenca_niveis(detectado, real):\n",
        "    if pd.isna(detectado) or pd.isna(real):\n",
        "        return 0 # Ou algum valor que indique \"sem informação\"\n",
        "    nivel_detectado = hierarquia.get(detectado, 0)\n",
        "    nivel_real = hierarquia.get(real, 0)\n",
        "    return nivel_detectado - nivel_real\n",
        "\n",
        "df_merged['diferenca_nivel_senioridade'] = df_merged.apply(\n",
        "    lambda row: calcular_diferenca_niveis(row['maior_nivel_detectado'], row['nivel_profissional_vaga']), axis=1\n",
        ")\n",
        "# Adicione 'diferenca_nivel_senioridade' ao seu `np.hstack`"
      ]
    },
    {
      "cell_type": "markdown",
      "source": [
        "### 3. Modelagem e Avaliação (Random Forest e SBERT)\n",
        "\n",
        "Nesta seção, preparamos os dados para o treinamento do modelo, utilizando o SBERT para gerar representações numéricas (embeddings) dos textos do candidato e da vaga. Em seguida, treinamos um modelo RandomForestClassifier, que combina esses embeddings com as features numéricas criadas anteriormente. Abordamos também o desbalanceamento de classes nesta etapa."
      ],
      "metadata": {
        "id": "U4oC1MdAbf-U"
      }
    },
    {
      "cell_type": "code",
      "execution_count": null,
      "metadata": {
        "colab": {
          "base_uri": "https://localhost:8080/",
          "height": 237,
          "referenced_widgets": [
            "2788f203f1a94994be8695b9c5a7c729",
            "594420d4b791458ea6f1b9f61bf18c30",
            "64fb9f7f06e3415ca09a3376aaa9e020",
            "165f58d406254cd8b807912f82b1285e",
            "f77e14ef619d408c9fd4604cb3d3b81c",
            "c5001dbc83424d29858833a81370d494",
            "7682e75a3ccc4334a69f9d7d0e142e74",
            "9f3a233b082e4756b1d2d4875dabf896",
            "5bed349cbef04207a7f14631e5f40d4a",
            "e056c009fd2a428992a52af6bbbf9d57",
            "86d878038eaf4f32b084b2b085fa0f2d",
            "c350d5a3ac45435c8cf6e9b8a20c2d0b",
            "9d79fed300e946f39166538b003acee5",
            "6864de1a4cf14c25ae559ce63192af4d",
            "a45de172ff594f30b35f2257fe65ee38",
            "b629e6becbde45fba2c23b44bbe3d09b",
            "6d767068bab5418d9bf432dd22449fbb",
            "5256548992f34ec89c530339da9de845",
            "8792921f94c442f48704b2e0004be6e2",
            "c5ab1dd2ea56485dbc341a2d86032d0d",
            "9ccd0a0f41214b0bb9d445fe0f6fbe4c",
            "ed72e03a4b7f4547a75f46d15244d2ce"
          ]
        },
        "id": "9Xk0LZNC2X_L",
        "outputId": "d3ad717e-377f-4ada-e975-ea934f0431d4"
      },
      "outputs": [
        {
          "name": "stderr",
          "output_type": "stream",
          "text": [
            "c:\\Users\\Leonardo\\AppData\\Local\\Programs\\Python\\Python311\\Lib\\site-packages\\tqdm\\auto.py:21: TqdmWarning: IProgress not found. Please update jupyter and ipywidgets. See https://ipywidgets.readthedocs.io/en/stable/user_install.html\n",
            "  from .autonotebook import tqdm as notebook_tqdm\n",
            "Batches: 100%|██████████| 288/288 [02:47<00:00,  1.71it/s]\n",
            "Batches: 100%|██████████| 288/288 [03:37<00:00,  1.32it/s]\n"
          ]
        },
        {
          "name": "stdout",
          "output_type": "stream",
          "text": [
            "              precision    recall  f1-score   support\n",
            "\n",
            "           0       0.83      0.91      0.87      1705\n",
            "           1       0.65      0.47      0.55       595\n",
            "\n",
            "    accuracy                           0.80      2300\n",
            "   macro avg       0.74      0.69      0.71      2300\n",
            "weighted avg       0.79      0.80      0.79      2300\n",
            "\n",
            "Fitting 5 folds for each of 27 candidates, totalling 135 fits\n",
            "Melhores parâmetros: {'classifier__max_depth': None, 'classifier__min_samples_leaf': 1, 'classifier__n_estimators': 300}\n",
            "Melhor F1-score de validação cruzada: 0.90\n",
            "\n",
            "Relatório de Classificação do Melhor Modelo no Conjunto de Teste:\n",
            "              precision    recall  f1-score   support\n",
            "\n",
            "           0       0.83      0.92      0.88      1705\n",
            "           1       0.68      0.47      0.56       595\n",
            "\n",
            "    accuracy                           0.81      2300\n",
            "   macro avg       0.76      0.70      0.72      2300\n",
            "weighted avg       0.79      0.81      0.79      2300\n",
            "\n"
          ]
        },
        {
          "ename": "NameError",
          "evalue": "name 'precision_recall_fscore_support' is not defined",
          "output_type": "error",
          "traceback": [
            "\u001b[31m---------------------------------------------------------------------------\u001b[39m",
            "\u001b[31mNameError\u001b[39m                                 Traceback (most recent call last)",
            "\u001b[36mCell\u001b[39m\u001b[36m \u001b[39m\u001b[32mIn[29]\u001b[39m\u001b[32m, line 91\u001b[39m\n\u001b[32m     89\u001b[39m y_proba_best = best_pipeline.predict_proba(X_test)[:, \u001b[32m1\u001b[39m]\n\u001b[32m     90\u001b[39m \u001b[38;5;28;01mfor\u001b[39;00m thresh \u001b[38;5;129;01min\u001b[39;00m [\u001b[32m0.2\u001b[39m, \u001b[32m0.25\u001b[39m, \u001b[32m0.3\u001b[39m, \u001b[32m0.35\u001b[39m, \u001b[32m0.4\u001b[39m, \u001b[32m0.45\u001b[39m, \u001b[32m0.5\u001b[39m]:\n\u001b[32m---> \u001b[39m\u001b[32m91\u001b[39m     p, r, f, _ = \u001b[43mprecision_recall_fscore_support\u001b[49m(y_test, (y_proba_best >= thresh).astype(\u001b[38;5;28mint\u001b[39m), average=\u001b[33m'\u001b[39m\u001b[33mbinary\u001b[39m\u001b[33m'\u001b[39m)\n\u001b[32m     92\u001b[39m     \u001b[38;5;28mprint\u001b[39m(\u001b[33mf\u001b[39m\u001b[33m\"\u001b[39m\u001b[33mThreshold: \u001b[39m\u001b[38;5;132;01m{\u001b[39;00mthresh\u001b[38;5;132;01m:\u001b[39;00m\u001b[33m.2f\u001b[39m\u001b[38;5;132;01m}\u001b[39;00m\u001b[33m | Precision: \u001b[39m\u001b[38;5;132;01m{\u001b[39;00mp\u001b[38;5;132;01m:\u001b[39;00m\u001b[33m.2f\u001b[39m\u001b[38;5;132;01m}\u001b[39;00m\u001b[33m | Recall: \u001b[39m\u001b[38;5;132;01m{\u001b[39;00mr\u001b[38;5;132;01m:\u001b[39;00m\u001b[33m.2f\u001b[39m\u001b[38;5;132;01m}\u001b[39;00m\u001b[33m | F1: \u001b[39m\u001b[38;5;132;01m{\u001b[39;00mf\u001b[38;5;132;01m:\u001b[39;00m\u001b[33m.2f\u001b[39m\u001b[38;5;132;01m}\u001b[39;00m\u001b[33m\"\u001b[39m)\n",
            "\u001b[31mNameError\u001b[39m: name 'precision_recall_fscore_support' is not defined"
          ]
        }
      ],
      "source": [
        "from sklearn.model_selection import train_test_split\n",
        "from sklearn.ensemble import RandomForestClassifier\n",
        "from sklearn.preprocessing import StandardScaler\n",
        "from sklearn.pipeline import Pipeline\n",
        "from sklearn.metrics import classification_report\n",
        "from imblearn.over_sampling import SMOTE\n",
        "from sentence_transformers import SentenceTransformer\n",
        "import numpy as np\n",
        "import pandas as pd\n",
        "from sklearn.model_selection import GridSearchCV, StratifiedKFold\n",
        "\n",
        "\n",
        "\n",
        "sbert = SentenceTransformer('paraphrase-MiniLM-L6-v2')\n",
        "\n",
        "X_vaga = sbert.encode(df_merged['texto_vaga_tratado'].tolist(), show_progress_bar=True)\n",
        "X_candidato = sbert.encode(df_merged['texto_completo_tratado'].tolist(), show_progress_bar=True)\n",
        "\n",
        "\n",
        "match_nivel_bin = df_merged['match_nivel_bin'].values.reshape(-1, 1)\n",
        "match_ingles = df_merged['match_nivel_ingles'].values.reshape(-1, 1)\n",
        "match_espanhol = df_merged['match_nivel_espanhol'].values.reshape(-1, 1)\n",
        "match_diferenca = df_merged['diferenca_nivel_senioridade'].values.reshape(-1, 1)\n",
        "match_local = df_merged['match_local_cidade_bin'].values.reshape(-1, 1)\n",
        "\n",
        "\n",
        "X = np.hstack((X_vaga, X_candidato, match_nivel_bin, match_ingles, match_espanhol, match_diferenca,match_local))\n",
        "\n",
        "X_embed = np.hstack((X_vaga, X_candidato))\n",
        "\n",
        "y = df_merged['alvo']\n",
        "\n",
        "\n",
        "X_train, X_test, y_train, y_test = train_test_split(X, y, stratify=y, random_state=42)\n",
        "\n",
        "\n",
        "sm = SMOTE(random_state=42)\n",
        "X_train_res, y_train_res = sm.fit_resample(X_train, y_train)\n",
        "\n",
        "\n",
        "pipeline = Pipeline([\n",
        "    ('scaler', StandardScaler()),\n",
        "    ('classifier', RandomForestClassifier(class_weight='balanced', random_state=42))\n",
        "])\n",
        "\n",
        "pipeline.fit(X_train_res, y_train_res)\n",
        "\n",
        "# Avaliação\n",
        "y_pred = pipeline.predict(X_test)\n",
        "print(classification_report(y_test, y_pred))\n",
        "pipeline = Pipeline([\n",
        "    ('scaler', StandardScaler()),\n",
        "    ('classifier', RandomForestClassifier(class_weight='balanced', random_state=42))\n",
        "])\n",
        "\n",
        "\n",
        "param_grid = {\n",
        "    'classifier__n_estimators': [100, 200, 300],\n",
        "    'classifier__max_depth': [10, 20, None],\n",
        "    'classifier__min_samples_leaf': [1, 2, 4],\n",
        "\n",
        "}\n",
        "\n",
        "# Use StratifiedKFold para validação cruzada devido ao desbalanceamento\n",
        "cv = StratifiedKFold(n_splits=5, shuffle=True, random_state=42)\n",
        "\n",
        "grid_search = GridSearchCV(\n",
        "    estimator=pipeline,\n",
        "    param_grid=param_grid,\n",
        "    scoring='f1',  # Otimize para F1-score da classe minoritária\n",
        "    cv=cv,\n",
        "    n_jobs=-1,     # Use todos os cores da CPU\n",
        "    verbose=2\n",
        ")\n",
        "\n",
        "# Treine o Grid Search nos dados balanceados\n",
        "grid_search.fit(X_train_res, y_train_res)\n",
        "\n",
        "print(f\"Melhores parâmetros: {grid_search.best_params_}\")\n",
        "print(f\"Melhor F1-score de validação cruzada: {grid_search.best_score_:.2f}\")\n",
        "\n",
        "# Avalie o melhor modelo encontrado no conjunto de teste original (não balanceado)\n",
        "best_pipeline = grid_search.best_estimator_\n",
        "y_pred_best = best_pipeline.predict(X_test)\n",
        "print(\"\\nRelatório de Classificação do Melhor Modelo no Conjunto de Teste:\")\n",
        "print(classification_report(y_test, y_pred_best))\n",
        "\n",
        "# Se você quiser testar diferentes limiares com o melhor_pipeline:\n",
        "y_proba_best = best_pipeline.predict_proba(X_test)[:, 1]\n",
        "for thresh in [0.2, 0.25, 0.3, 0.35, 0.4, 0.45, 0.5]:\n",
        "    p, r, f, _ = precision_recall_fscore_support(y_test, (y_proba_best >= thresh).astype(int), average='binary')\n",
        "    print(f\"Threshold: {thresh:.2f} | Precision: {p:.2f} | Recall: {r:.2f} | F1: {f:.2f}\")"
      ]
    },
    {
      "cell_type": "code",
      "execution_count": null,
      "metadata": {
        "colab": {
          "base_uri": "https://localhost:8080/",
          "height": 391
        },
        "id": "luKN5ua67iVQ",
        "outputId": "e9ff36e9-d76c-4627-a816-b19842d98870"
      },
      "outputs": [
        {
          "data": {
            "image/png": "[encoded data removed]",
            "text/plain": [
              "<Figure size 800x400 with 1 Axes>"
            ]
          },
          "metadata": {},
          "output_type": "display_data"
        }
      ],
      "source": [
        "importances = pipeline.named_steps['classifier'].feature_importances_\n",
        "\n",
        "import matplotlib.pyplot as plt\n",
        "\n",
        "plt.figure(figsize=(8, 4))\n",
        "plt.bar(range(len(importances)), importances)\n",
        "plt.title(\"Importância das features\")\n",
        "plt.show()\n"
      ]
    },
    {
      "cell_type": "markdown",
      "source": [
        "### Análise da Matriz de Confusão\n",
        "\n",
        "Nesta etapa, visualizamos a Matriz de Confusão para entender o desempenho do modelo em prever corretamente as classes \"Match\" e \"Não Match\". A matriz nos ajuda a identificar a quantidade de Verdadeiros Positivos, Verdadeiros Negativos, Falsos Positivos e Falsos Negativos, fornecendo uma visão detalhada dos tipos de erros que o modelo está cometendo."
      ],
      "metadata": {
        "id": "CjXAAFUGceZU"
      }
    },
    {
      "cell_type": "code",
      "execution_count": null,
      "metadata": {
        "colab": {
          "base_uri": "https://localhost:8080/",
          "height": 410
        },
        "id": "5zyuNNXFU976",
        "outputId": "2da46dad-da00-43d1-bf63-2c3967d2673e"
      },
      "outputs": [
        {
          "data": {
            "image/png": "[encoded data removed]",
            "text/plain": [
              "<Figure size 600x400 with 2 Axes>"
            ]
          },
          "metadata": {},
          "output_type": "display_data"
        }
      ],
      "source": [
        "from sklearn.metrics import confusion_matrix\n",
        "import seaborn as sns\n",
        "import matplotlib.pyplot as plt\n",
        "\n",
        "cm = confusion_matrix(y_test, y_pred)\n",
        "plt.figure(figsize=(6, 4))\n",
        "sns.heatmap(cm, annot=True, fmt='d', cmap='Blues',\n",
        "            xticklabels=['Não Match (Pred)', 'Match (Pred)'],\n",
        "            yticklabels=['Não Match (Real)', 'Match (Real)'])\n",
        "plt.xlabel('Predito')\n",
        "plt.ylabel('Real')\n",
        "plt.title('Matriz de Confusão do Classificador (Teste) - SBERT')\n",
        "plt.show()"
      ]
    },
    {
      "cell_type": "markdown",
      "source": [
        "### Experimentação de Limiares de Probabilidade\n",
        "\n",
        "Experimentamos diferentes limiares de probabilidade para a classificação. O objetivo é encontrar um ponto de corte que otimize o desempenho do modelo, buscando um melhor equilíbrio entre métricas como Precision e Recall, considerando as necessidades do problema (por exemplo, minimizar falsos negativos)."
      ],
      "metadata": {
        "id": "LtMNAvWhcsfK"
      }
    },
    {
      "cell_type": "code",
      "execution_count": null,
      "metadata": {
        "colab": {
          "base_uri": "https://localhost:8080/"
        },
        "id": "NMxNAPoKWBlQ",
        "outputId": "19276582-80e7-4b79-ced0-27a678060ce1"
      },
      "outputs": [
        {
          "name": "stdout",
          "output_type": "stream",
          "text": [
            "\n",
            "--- Avaliação com Limiar Ajustado (0.3) ---\n",
            "              precision    recall  f1-score   support\n",
            "\n",
            "           0       0.86      0.79      0.82      1705\n",
            "           1       0.51      0.63      0.56       595\n",
            "\n",
            "    accuracy                           0.75      2300\n",
            "   macro avg       0.68      0.71      0.69      2300\n",
            "weighted avg       0.77      0.75      0.76      2300\n",
            "\n"
          ]
        }
      ],
      "source": [
        "y_proba = pipeline.predict_proba(X_test)[:, 1]\n",
        "\n",
        "limiar_novo = 0.3\n",
        "y_pred_ajustado = (y_proba > limiar_novo).astype(int)\n",
        "\n",
        "print(f\"\\n--- Avaliação com Limiar Ajustado ({limiar_novo}) ---\")\n",
        "print(classification_report(y_test, y_pred_ajustado))"
      ]
    },
    {
      "cell_type": "markdown",
      "source": [
        "### Experimentação com XGBoostClassifier\n",
        "\n",
        "Por fim, realizamos a modelagem utilizando o XGBoostClassifier, um modelo reconhecido por sua eficácia e capacidade de lidar bem com bases de dados desbalanceadas."
      ],
      "metadata": {
        "id": "S_QBMgxPc0da"
      }
    },
    {
      "cell_type": "code",
      "execution_count": null,
      "metadata": {
        "id": "AjuiiHN5WnN0",
        "outputId": "67ce305f-61e6-4370-f3d4-20180a6a441f"
      },
      "outputs": [
        {
          "name": "stderr",
          "output_type": "stream",
          "text": [
            "c:\\Users\\Leonardo\\AppData\\Local\\Programs\\Python\\Python311\\Lib\\site-packages\\xgboost\\training.py:183: UserWarning: [21:14:05] WARNING: C:\\actions-runner\\_work\\xgboost\\xgboost\\src\\learner.cc:738: \n",
            "Parameters: { \"use_label_encoder\" } are not used.\n",
            "\n",
            "  bst.update(dtrain, iteration=i, fobj=obj)\n"
          ]
        },
        {
          "name": "stdout",
          "output_type": "stream",
          "text": [
            "              precision    recall  f1-score   support\n",
            "\n",
            "           0       0.84      0.87      0.85      1705\n",
            "           1       0.58      0.51      0.55       595\n",
            "\n",
            "    accuracy                           0.78      2300\n",
            "   macro avg       0.71      0.69      0.70      2300\n",
            "weighted avg       0.77      0.78      0.77      2300\n",
            "\n"
          ]
        }
      ],
      "source": [
        "from xgboost import XGBClassifier\n",
        "\n",
        "pos_weight = (y_train == 0).sum() / (y_train == 1).sum()\n",
        "\n",
        "xgb_model = XGBClassifier(\n",
        "    objective='binary:logistic',\n",
        "    scale_pos_weight=pos_weight,\n",
        "    eval_metric='logloss',\n",
        "    use_label_encoder=False,\n",
        "    random_state=42\n",
        ")\n",
        "\n",
        "pipeline = Pipeline([\n",
        "    ('scaler', StandardScaler()),\n",
        "    ('classifier', xgb_model)\n",
        "])\n",
        "\n",
        "pipeline.fit(X_train_res, y_train_res)\n",
        "\n",
        "# Avaliação\n",
        "y_pred = pipeline.predict(X_test)\n",
        "print(classification_report(y_test, y_pred))\n"
      ]
    },
    {
      "cell_type": "code",
      "execution_count": null,
      "metadata": {
        "id": "kTkNOt7iUpQH",
        "outputId": "073b9729-44cf-4088-a429-a166a4710b2d"
      },
      "outputs": [
        {
          "name": "stdout",
          "output_type": "stream",
          "text": [
            "              precision    recall  f1-score   support\n",
            "\n",
            "           0       0.86      0.79      0.82      1705\n",
            "           1       0.51      0.63      0.56       595\n",
            "\n",
            "    accuracy                           0.75      2300\n",
            "   macro avg       0.68      0.71      0.69      2300\n",
            "weighted avg       0.77      0.75      0.76      2300\n",
            "\n"
          ]
        }
      ],
      "source": [
        "y_proba = pipeline.predict_proba(X_test)[:, 1]\n",
        "y_pred_thresh = (y_proba >= 0.3).astype(int)  # Ou 0.25, 0.35\n",
        "\n",
        "print(classification_report(y_test, y_pred_thresh))\n"
      ]
    },
    {
      "cell_type": "markdown",
      "source": [
        "Continuando a experimentação de limiares, analisamos o impacto de diferentes pontos de corte nas métricas de avaliação (Precision, Recall e F1-score) para entender o trade-off e selecionar o limiar mais adequado para o objetivo do projeto."
      ],
      "metadata": {
        "id": "cltIDwLkdGCC"
      }
    },
    {
      "cell_type": "code",
      "execution_count": null,
      "metadata": {
        "id": "DIFc7rGVUpQH",
        "outputId": "443cc7f8-0023-432f-89c4-da7fe579a0ef"
      },
      "outputs": [
        {
          "name": "stdout",
          "output_type": "stream",
          "text": [
            "Threshold: 0.20 | Precision: 0.47 | Recall: 0.71 | F1: 0.57\n",
            "Threshold: 0.25 | Precision: 0.49 | Recall: 0.66 | F1: 0.56\n",
            "Threshold: 0.30 | Precision: 0.51 | Recall: 0.63 | F1: 0.56\n",
            "Threshold: 0.35 | Precision: 0.53 | Recall: 0.59 | F1: 0.56\n",
            "Threshold: 0.40 | Precision: 0.55 | Recall: 0.56 | F1: 0.55\n"
          ]
        }
      ],
      "source": [
        "from sklearn.metrics import precision_recall_fscore_support\n",
        "\n",
        "for thresh in [0.2, 0.25, 0.3, 0.35, 0.4]:\n",
        "    y_pred_thresh = (y_proba >= thresh).astype(int)\n",
        "    p, r, f, _ = precision_recall_fscore_support(y_test, y_pred_thresh, average='binary')\n",
        "    print(f\"Threshold: {thresh:.2f} | Precision: {p:.2f} | Recall: {r:.2f} | F1: {f:.2f}\")\n"
      ]
    },
    {
      "cell_type": "code",
      "execution_count": null,
      "metadata": {
        "id": "YvFc56b1UpQI",
        "outputId": "11213535-36da-4eec-c258-775fd2c7d80f"
      },
      "outputs": [
        {
          "data": {
            "image/png": "[encoded data removed]",
            "text/plain": [
              "<Figure size 800x600 with 1 Axes>"
            ]
          },
          "metadata": {},
          "output_type": "display_data"
        }
      ],
      "source": [
        "import matplotlib.pyplot as plt\n",
        "import numpy as np\n",
        "\n",
        "feat_names = (\n",
        "    ['SBERT_vaga_'+str(i) for i in range(X_vaga.shape[1])] +\n",
        "    ['SBERT_cand_'+str(i) for i in range(X_candidato.shape[1])] +\n",
        "    ['match_bin', 'ingles', 'espanhol', 'diff_senioridade', 'match_local']\n",
        ")\n",
        "\n",
        "importances = pipeline.named_steps['classifier'].feature_importances_\n",
        "indices = np.argsort(importances)[-15:]  # top 15\n",
        "plt.figure(figsize=(8,6))\n",
        "plt.barh(range(len(indices)), importances[indices])\n",
        "plt.yticks(range(len(indices)), [feat_names[i] for i in indices])\n",
        "plt.title(\"Top 15 - Importância de Features\")\n",
        "plt.show()\n"
      ]
    },
    {
      "cell_type": "code",
      "execution_count": null,
      "metadata": {
        "id": "KznEkq2rUpQI",
        "outputId": "b3bc68ed-1569-4e9d-a917-b17a4c4b5ea4"
      },
      "outputs": [
        {
          "data": {
            "image/png": "[encoded data removed]",
            "text/plain": [
              "<Figure size 640x480 with 1 Axes>"
            ]
          },
          "metadata": {},
          "output_type": "display_data"
        }
      ],
      "source": [
        "from sklearn.metrics import precision_recall_curve\n",
        "import matplotlib.pyplot as plt\n",
        "\n",
        "prec, rec, thresh = precision_recall_curve(y_test, y_proba)\n",
        "plt.plot(rec, prec)\n",
        "plt.xlabel('Recall')\n",
        "plt.ylabel('Precision')\n",
        "plt.title('Curva Precision-Recall')\n",
        "plt.grid()\n",
        "plt.show()\n"
      ]
    },
    {
      "cell_type": "code",
      "execution_count": null,
      "metadata": {
        "id": "GFXxnqmMlLI0",
        "outputId": "11ad68d8-fda9-4110-fdf0-f6807632572e"
      },
      "outputs": [
        {
          "name": "stdout",
          "output_type": "stream",
          "text": [
            "Pipeline do XGBoost salvo em 'modelos_salvos/xgb_pipeline_treinado.pkl'\n"
          ]
        }
      ],
      "source": [
        "import joblib\n",
        "import os\n",
        "\n",
        "if not os.path.exists('modelos_salvos'):\n",
        "    os.makedirs('modelos_salvos')\n",
        "\n",
        "# Salve o pipeline treinado\n",
        "joblib.dump(pipeline, 'modelos_salvos/xgb_pipeline_treinado.pkl')\n",
        "\n",
        "print(\"Pipeline do XGBoost salvo em 'modelos_salvos/xgb_pipeline_treinado.pkl'\")"
      ]
    },
    {
      "cell_type": "code",
      "execution_count": null,
      "metadata": {
        "id": "gGI-4V9WUpQI",
        "outputId": "c1494baa-a249-46f9-9a51-66ecee5d3ff7"
      },
      "outputs": [
        {
          "name": "stdout",
          "output_type": "stream",
          "text": [
            "Limiar ideal (0.2) salvo em 'modelos_salvos/limiar_xgb.txt'\n"
          ]
        }
      ],
      "source": [
        "limiar_ideal_xgb = 0.20\n",
        "with open('modelos_salvos/limiar_xgb.txt', 'w') as f:\n",
        "    f.write(str(limiar_ideal_xgb))\n",
        "\n",
        "print(f\"Limiar ideal ({limiar_ideal_xgb}) salvo em 'modelos_salvos/limiar_xgb.txt'\")"
      ]
    }
  ],
  "metadata": {
    "colab": {
      "provenance": []
    },
    "kernelspec": {
      "display_name": "Python 3",
      "name": "python3"
    },
    "language_info": {
      "codemirror_mode": {
        "name": "ipython",
        "version": 3
      },
      "file_extension": ".py",
      "mimetype": "text/x-python",
      "name": "python",
      "nbconvert_exporter": "python",
      "pygments_lexer": "ipython3",
      "version": "3.11.7"
    },
    "widgets": {
      "application/vnd.jupyter.widget-state+json": {
        "165f58d406254cd8b807912f82b1285e": {
          "model_module": "@jupyter-widgets/controls",
          "model_module_version": "1.5.0",
          "model_name": "HTMLModel",
          "state": {
            "_dom_classes": [],
            "_model_module": "@jupyter-widgets/controls",
            "_model_module_version": "1.5.0",
            "_model_name": "HTMLModel",
            "_view_count": null,
            "_view_module": "@jupyter-widgets/controls",
            "_view_module_version": "1.5.0",
            "_view_name": "HTMLView",
            "description": "",
            "description_tooltip": null,
            "layout": "IPY_MODEL_e056c009fd2a428992a52af6bbbf9d57",
            "placeholder": "​",
            "style": "IPY_MODEL_86d878038eaf4f32b084b2b085fa0f2d",
            "value": " 1320/1320 [35:06&lt;00:00,  3.01it/s]"
          }
        },
        "2788f203f1a94994be8695b9c5a7c729": {
          "model_module": "@jupyter-widgets/controls",
          "model_module_version": "1.5.0",
          "model_name": "HBoxModel",
          "state": {
            "_dom_classes": [],
            "_model_module": "@jupyter-widgets/controls",
            "_model_module_version": "1.5.0",
            "_model_name": "HBoxModel",
            "_view_count": null,
            "_view_module": "@jupyter-widgets/controls",
            "_view_module_version": "1.5.0",
            "_view_name": "HBoxView",
            "box_style": "",
            "children": [
              "IPY_MODEL_594420d4b791458ea6f1b9f61bf18c30",
              "IPY_MODEL_64fb9f7f06e3415ca09a3376aaa9e020",
              "IPY_MODEL_165f58d406254cd8b807912f82b1285e"
            ],
            "layout": "IPY_MODEL_f77e14ef619d408c9fd4604cb3d3b81c"
          }
        },
        "5256548992f34ec89c530339da9de845": {
          "model_module": "@jupyter-widgets/controls",
          "model_module_version": "1.5.0",
          "model_name": "DescriptionStyleModel",
          "state": {
            "_model_module": "@jupyter-widgets/controls",
            "_model_module_version": "1.5.0",
            "_model_name": "DescriptionStyleModel",
            "_view_count": null,
            "_view_module": "@jupyter-widgets/base",
            "_view_module_version": "1.2.0",
            "_view_name": "StyleView",
            "description_width": ""
          }
        },
        "594420d4b791458ea6f1b9f61bf18c30": {
          "model_module": "@jupyter-widgets/controls",
          "model_module_version": "1.5.0",
          "model_name": "HTMLModel",
          "state": {
            "_dom_classes": [],
            "_model_module": "@jupyter-widgets/controls",
            "_model_module_version": "1.5.0",
            "_model_name": "HTMLModel",
            "_view_count": null,
            "_view_module": "@jupyter-widgets/controls",
            "_view_module_version": "1.5.0",
            "_view_name": "HTMLView",
            "description": "",
            "description_tooltip": null,
            "layout": "IPY_MODEL_c5001dbc83424d29858833a81370d494",
            "placeholder": "​",
            "style": "IPY_MODEL_7682e75a3ccc4334a69f9d7d0e142e74",
            "value": "Batches: 100%"
          }
        },
        "5bed349cbef04207a7f14631e5f40d4a": {
          "model_module": "@jupyter-widgets/controls",
          "model_module_version": "1.5.0",
          "model_name": "ProgressStyleModel",
          "state": {
            "_model_module": "@jupyter-widgets/controls",
            "_model_module_version": "1.5.0",
            "_model_name": "ProgressStyleModel",
            "_view_count": null,
            "_view_module": "@jupyter-widgets/base",
            "_view_module_version": "1.2.0",
            "_view_name": "StyleView",
            "bar_color": null,
            "description_width": ""
          }
        },
        "64fb9f7f06e3415ca09a3376aaa9e020": {
          "model_module": "@jupyter-widgets/controls",
          "model_module_version": "1.5.0",
          "model_name": "FloatProgressModel",
          "state": {
            "_dom_classes": [],
            "_model_module": "@jupyter-widgets/controls",
            "_model_module_version": "1.5.0",
            "_model_name": "FloatProgressModel",
            "_view_count": null,
            "_view_module": "@jupyter-widgets/controls",
            "_view_module_version": "1.5.0",
            "_view_name": "ProgressView",
            "bar_style": "success",
            "description": "",
            "description_tooltip": null,
            "layout": "IPY_MODEL_9f3a233b082e4756b1d2d4875dabf896",
            "max": 1320,
            "min": 0,
            "orientation": "horizontal",
            "style": "IPY_MODEL_5bed349cbef04207a7f14631e5f40d4a",
            "value": 1320
          }
        },
        "6864de1a4cf14c25ae559ce63192af4d": {
          "model_module": "@jupyter-widgets/controls",
          "model_module_version": "1.5.0",
          "model_name": "FloatProgressModel",
          "state": {
            "_dom_classes": [],
            "_model_module": "@jupyter-widgets/controls",
            "_model_module_version": "1.5.0",
            "_model_name": "FloatProgressModel",
            "_view_count": null,
            "_view_module": "@jupyter-widgets/controls",
            "_view_module_version": "1.5.0",
            "_view_name": "ProgressView",
            "bar_style": "success",
            "description": "",
            "description_tooltip": null,
            "layout": "IPY_MODEL_8792921f94c442f48704b2e0004be6e2",
            "max": 1320,
            "min": 0,
            "orientation": "horizontal",
            "style": "IPY_MODEL_c5ab1dd2ea56485dbc341a2d86032d0d",
            "value": 1320
          }
        },
        "6d767068bab5418d9bf432dd22449fbb": {
          "model_module": "@jupyter-widgets/base",
          "model_module_version": "1.2.0",
          "model_name": "LayoutModel",
          "state": {
            "_model_module": "@jupyter-widgets/base",
            "_model_module_version": "1.2.0",
            "_model_name": "LayoutModel",
            "_view_count": null,
            "_view_module": "@jupyter-widgets/base",
            "_view_module_version": "1.2.0",
            "_view_name": "LayoutView",
            "align_content": null,
            "align_items": null,
            "align_self": null,
            "border": null,
            "bottom": null,
            "display": null,
            "flex": null,
            "flex_flow": null,
            "grid_area": null,
            "grid_auto_columns": null,
            "grid_auto_flow": null,
            "grid_auto_rows": null,
            "grid_column": null,
            "grid_gap": null,
            "grid_row": null,
            "grid_template_areas": null,
            "grid_template_columns": null,
            "grid_template_rows": null,
            "height": null,
            "justify_content": null,
            "justify_items": null,
            "left": null,
            "margin": null,
            "max_height": null,
            "max_width": null,
            "min_height": null,
            "min_width": null,
            "object_fit": null,
            "object_position": null,
            "order": null,
            "overflow": null,
            "overflow_x": null,
            "overflow_y": null,
            "padding": null,
            "right": null,
            "top": null,
            "visibility": null,
            "width": null
          }
        },
        "7682e75a3ccc4334a69f9d7d0e142e74": {
          "model_module": "@jupyter-widgets/controls",
          "model_module_version": "1.5.0",
          "model_name": "DescriptionStyleModel",
          "state": {
            "_model_module": "@jupyter-widgets/controls",
            "_model_module_version": "1.5.0",
            "_model_name": "DescriptionStyleModel",
            "_view_count": null,
            "_view_module": "@jupyter-widgets/base",
            "_view_module_version": "1.2.0",
            "_view_name": "StyleView",
            "description_width": ""
          }
        },
        "86d878038eaf4f32b084b2b085fa0f2d": {
          "model_module": "@jupyter-widgets/controls",
          "model_module_version": "1.5.0",
          "model_name": "DescriptionStyleModel",
          "state": {
            "_model_module": "@jupyter-widgets/controls",
            "_model_module_version": "1.5.0",
            "_model_name": "DescriptionStyleModel",
            "_view_count": null,
            "_view_module": "@jupyter-widgets/base",
            "_view_module_version": "1.2.0",
            "_view_name": "StyleView",
            "description_width": ""
          }
        },
        "8792921f94c442f48704b2e0004be6e2": {
          "model_module": "@jupyter-widgets/base",
          "model_module_version": "1.2.0",
          "model_name": "LayoutModel",
          "state": {
            "_model_module": "@jupyter-widgets/base",
            "_model_module_version": "1.2.0",
            "_model_name": "LayoutModel",
            "_view_count": null,
            "_view_module": "@jupyter-widgets/base",
            "_view_module_version": "1.2.0",
            "_view_name": "LayoutView",
            "align_content": null,
            "align_items": null,
            "align_self": null,
            "border": null,
            "bottom": null,
            "display": null,
            "flex": null,
            "flex_flow": null,
            "grid_area": null,
            "grid_auto_columns": null,
            "grid_auto_flow": null,
            "grid_auto_rows": null,
            "grid_column": null,
            "grid_gap": null,
            "grid_row": null,
            "grid_template_areas": null,
            "grid_template_columns": null,
            "grid_template_rows": null,
            "height": null,
            "justify_content": null,
            "justify_items": null,
            "left": null,
            "margin": null,
            "max_height": null,
            "max_width": null,
            "min_height": null,
            "min_width": null,
            "object_fit": null,
            "object_position": null,
            "order": null,
            "overflow": null,
            "overflow_x": null,
            "overflow_y": null,
            "padding": null,
            "right": null,
            "top": null,
            "visibility": null,
            "width": null
          }
        },
        "9ccd0a0f41214b0bb9d445fe0f6fbe4c": {
          "model_module": "@jupyter-widgets/base",
          "model_module_version": "1.2.0",
          "model_name": "LayoutModel",
          "state": {
            "_model_module": "@jupyter-widgets/base",
            "_model_module_version": "1.2.0",
            "_model_name": "LayoutModel",
            "_view_count": null,
            "_view_module": "@jupyter-widgets/base",
            "_view_module_version": "1.2.0",
            "_view_name": "LayoutView",
            "align_content": null,
            "align_items": null,
            "align_self": null,
            "border": null,
            "bottom": null,
            "display": null,
            "flex": null,
            "flex_flow": null,
            "grid_area": null,
            "grid_auto_columns": null,
            "grid_auto_flow": null,
            "grid_auto_rows": null,
            "grid_column": null,
            "grid_gap": null,
            "grid_row": null,
            "grid_template_areas": null,
            "grid_template_columns": null,
            "grid_template_rows": null,
            "height": null,
            "justify_content": null,
            "justify_items": null,
            "left": null,
            "margin": null,
            "max_height": null,
            "max_width": null,
            "min_height": null,
            "min_width": null,
            "object_fit": null,
            "object_position": null,
            "order": null,
            "overflow": null,
            "overflow_x": null,
            "overflow_y": null,
            "padding": null,
            "right": null,
            "top": null,
            "visibility": null,
            "width": null
          }
        },
        "9d79fed300e946f39166538b003acee5": {
          "model_module": "@jupyter-widgets/controls",
          "model_module_version": "1.5.0",
          "model_name": "HTMLModel",
          "state": {
            "_dom_classes": [],
            "_model_module": "@jupyter-widgets/controls",
            "_model_module_version": "1.5.0",
            "_model_name": "HTMLModel",
            "_view_count": null,
            "_view_module": "@jupyter-widgets/controls",
            "_view_module_version": "1.5.0",
            "_view_name": "HTMLView",
            "description": "",
            "description_tooltip": null,
            "layout": "IPY_MODEL_6d767068bab5418d9bf432dd22449fbb",
            "placeholder": "​",
            "style": "IPY_MODEL_5256548992f34ec89c530339da9de845",
            "value": "Batches: 100%"
          }
        },
        "9f3a233b082e4756b1d2d4875dabf896": {
          "model_module": "@jupyter-widgets/base",
          "model_module_version": "1.2.0",
          "model_name": "LayoutModel",
          "state": {
            "_model_module": "@jupyter-widgets/base",
            "_model_module_version": "1.2.0",
            "_model_name": "LayoutModel",
            "_view_count": null,
            "_view_module": "@jupyter-widgets/base",
            "_view_module_version": "1.2.0",
            "_view_name": "LayoutView",
            "align_content": null,
            "align_items": null,
            "align_self": null,
            "border": null,
            "bottom": null,
            "display": null,
            "flex": null,
            "flex_flow": null,
            "grid_area": null,
            "grid_auto_columns": null,
            "grid_auto_flow": null,
            "grid_auto_rows": null,
            "grid_column": null,
            "grid_gap": null,
            "grid_row": null,
            "grid_template_areas": null,
            "grid_template_columns": null,
            "grid_template_rows": null,
            "height": null,
            "justify_content": null,
            "justify_items": null,
            "left": null,
            "margin": null,
            "max_height": null,
            "max_width": null,
            "min_height": null,
            "min_width": null,
            "object_fit": null,
            "object_position": null,
            "order": null,
            "overflow": null,
            "overflow_x": null,
            "overflow_y": null,
            "padding": null,
            "right": null,
            "top": null,
            "visibility": null,
            "width": null
          }
        },
        "a45de172ff594f30b35f2257fe65ee38": {
          "model_module": "@jupyter-widgets/controls",
          "model_module_version": "1.5.0",
          "model_name": "HTMLModel",
          "state": {
            "_dom_classes": [],
            "_model_module": "@jupyter-widgets/controls",
            "_model_module_version": "1.5.0",
            "_model_name": "HTMLModel",
            "_view_count": null,
            "_view_module": "@jupyter-widgets/controls",
            "_view_module_version": "1.5.0",
            "_view_name": "HTMLView",
            "description": "",
            "description_tooltip": null,
            "layout": "IPY_MODEL_9ccd0a0f41214b0bb9d445fe0f6fbe4c",
            "placeholder": "​",
            "style": "IPY_MODEL_ed72e03a4b7f4547a75f46d15244d2ce",
            "value": " 1320/1320 [59:06&lt;00:00,  1.33s/it]"
          }
        },
        "b629e6becbde45fba2c23b44bbe3d09b": {
          "model_module": "@jupyter-widgets/base",
          "model_module_version": "1.2.0",
          "model_name": "LayoutModel",
          "state": {
            "_model_module": "@jupyter-widgets/base",
            "_model_module_version": "1.2.0",
            "_model_name": "LayoutModel",
            "_view_count": null,
            "_view_module": "@jupyter-widgets/base",
            "_view_module_version": "1.2.0",
            "_view_name": "LayoutView",
            "align_content": null,
            "align_items": null,
            "align_self": null,
            "border": null,
            "bottom": null,
            "display": null,
            "flex": null,
            "flex_flow": null,
            "grid_area": null,
            "grid_auto_columns": null,
            "grid_auto_flow": null,
            "grid_auto_rows": null,
            "grid_column": null,
            "grid_gap": null,
            "grid_row": null,
            "grid_template_areas": null,
            "grid_template_columns": null,
            "grid_template_rows": null,
            "height": null,
            "justify_content": null,
            "justify_items": null,
            "left": null,
            "margin": null,
            "max_height": null,
            "max_width": null,
            "min_height": null,
            "min_width": null,
            "object_fit": null,
            "object_position": null,
            "order": null,
            "overflow": null,
            "overflow_x": null,
            "overflow_y": null,
            "padding": null,
            "right": null,
            "top": null,
            "visibility": null,
            "width": null
          }
        },
        "c350d5a3ac45435c8cf6e9b8a20c2d0b": {
          "model_module": "@jupyter-widgets/controls",
          "model_module_version": "1.5.0",
          "model_name": "HBoxModel",
          "state": {
            "_dom_classes": [],
            "_model_module": "@jupyter-widgets/controls",
            "_model_module_version": "1.5.0",
            "_model_name": "HBoxModel",
            "_view_count": null,
            "_view_module": "@jupyter-widgets/controls",
            "_view_module_version": "1.5.0",
            "_view_name": "HBoxView",
            "box_style": "",
            "children": [
              "IPY_MODEL_9d79fed300e946f39166538b003acee5",
              "IPY_MODEL_6864de1a4cf14c25ae559ce63192af4d",
              "IPY_MODEL_a45de172ff594f30b35f2257fe65ee38"
            ],
            "layout": "IPY_MODEL_b629e6becbde45fba2c23b44bbe3d09b"
          }
        },
        "c5001dbc83424d29858833a81370d494": {
          "model_module": "@jupyter-widgets/base",
          "model_module_version": "1.2.0",
          "model_name": "LayoutModel",
          "state": {
            "_model_module": "@jupyter-widgets/base",
            "_model_module_version": "1.2.0",
            "_model_name": "LayoutModel",
            "_view_count": null,
            "_view_module": "@jupyter-widgets/base",
            "_view_module_version": "1.2.0",
            "_view_name": "LayoutView",
            "align_content": null,
            "align_items": null,
            "align_self": null,
            "border": null,
            "bottom": null,
            "display": null,
            "flex": null,
            "flex_flow": null,
            "grid_area": null,
            "grid_auto_columns": null,
            "grid_auto_flow": null,
            "grid_auto_rows": null,
            "grid_column": null,
            "grid_gap": null,
            "grid_row": null,
            "grid_template_areas": null,
            "grid_template_columns": null,
            "grid_template_rows": null,
            "height": null,
            "justify_content": null,
            "justify_items": null,
            "left": null,
            "margin": null,
            "max_height": null,
            "max_width": null,
            "min_height": null,
            "min_width": null,
            "object_fit": null,
            "object_position": null,
            "order": null,
            "overflow": null,
            "overflow_x": null,
            "overflow_y": null,
            "padding": null,
            "right": null,
            "top": null,
            "visibility": null,
            "width": null
          }
        },
        "c5ab1dd2ea56485dbc341a2d86032d0d": {
          "model_module": "@jupyter-widgets/controls",
          "model_module_version": "1.5.0",
          "model_name": "ProgressStyleModel",
          "state": {
            "_model_module": "@jupyter-widgets/controls",
            "_model_module_version": "1.5.0",
            "_model_name": "ProgressStyleModel",
            "_view_count": null,
            "_view_module": "@jupyter-widgets/base",
            "_view_module_version": "1.2.0",
            "_view_name": "StyleView",
            "bar_color": null,
            "description_width": ""
          }
        },
        "e056c009fd2a428992a52af6bbbf9d57": {
          "model_module": "@jupyter-widgets/base",
          "model_module_version": "1.2.0",
          "model_name": "LayoutModel",
          "state": {
            "_model_module": "@jupyter-widgets/base",
            "_model_module_version": "1.2.0",
            "_model_name": "LayoutModel",
            "_view_count": null,
            "_view_module": "@jupyter-widgets/base",
            "_view_module_version": "1.2.0",
            "_view_name": "LayoutView",
            "align_content": null,
            "align_items": null,
            "align_self": null,
            "border": null,
            "bottom": null,
            "display": null,
            "flex": null,
            "flex_flow": null,
            "grid_area": null,
            "grid_auto_columns": null,
            "grid_auto_flow": null,
            "grid_auto_rows": null,
            "grid_column": null,
            "grid_gap": null,
            "grid_row": null,
            "grid_template_areas": null,
            "grid_template_columns": null,
            "grid_template_rows": null,
            "height": null,
            "justify_content": null,
            "justify_items": null,
            "left": null,
            "margin": null,
            "max_height": null,
            "max_width": null,
            "min_height": null,
            "min_width": null,
            "object_fit": null,
            "object_position": null,
            "order": null,
            "overflow": null,
            "overflow_x": null,
            "overflow_y": null,
            "padding": null,
            "right": null,
            "top": null,
            "visibility": null,
            "width": null
          }
        },
        "ed72e03a4b7f4547a75f46d15244d2ce": {
          "model_module": "@jupyter-widgets/controls",
          "model_module_version": "1.5.0",
          "model_name": "DescriptionStyleModel",
          "state": {
            "_model_module": "@jupyter-widgets/controls",
            "_model_module_version": "1.5.0",
            "_model_name": "DescriptionStyleModel",
            "_view_count": null,
            "_view_module": "@jupyter-widgets/base",
            "_view_module_version": "1.2.0",
            "_view_name": "StyleView",
            "description_width": ""
          }
        },
        "f77e14ef619d408c9fd4604cb3d3b81c": {
          "model_module": "@jupyter-widgets/base",
          "model_module_version": "1.2.0",
          "model_name": "LayoutModel",
          "state": {
            "_model_module": "@jupyter-widgets/base",
            "_model_module_version": "1.2.0",
            "_model_name": "LayoutModel",
            "_view_count": null,
            "_view_module": "@jupyter-widgets/base",
            "_view_module_version": "1.2.0",
            "_view_name": "LayoutView",
            "align_content": null,
            "align_items": null,
            "align_self": null,
            "border": null,
            "bottom": null,
            "display": null,
            "flex": null,
            "flex_flow": null,
            "grid_area": null,
            "grid_auto_columns": null,
            "grid_auto_flow": null,
            "grid_auto_rows": null,
            "grid_column": null,
            "grid_gap": null,
            "grid_row": null,
            "grid_template_areas": null,
            "grid_template_columns": null,
            "grid_template_rows": null,
            "height": null,
            "justify_content": null,
            "justify_items": null,
            "left": null,
            "margin": null,
            "max_height": null,
            "max_width": null,
            "min_height": null,
            "min_width": null,
            "object_fit": null,
            "object_position": null,
            "order": null,
            "overflow": null,
            "overflow_x": null,
            "overflow_y": null,
            "padding": null,
            "right": null,
            "top": null,
            "visibility": null,
            "width": null
          }
        }
      }
    }
  },
  "nbformat": 4,
  "nbformat_minor": 0
}